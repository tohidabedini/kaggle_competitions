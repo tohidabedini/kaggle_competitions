{
 "cells": [
  {
   "cell_type": "markdown",
   "id": "910af58f",
   "metadata": {},
   "source": [
    "https://stackoverflow.com/questions/43355044/cumulative-explained-variance-for-pca-in-python\n",
    "\n",
    "https://stackoverflow.com/questions/32011359/convert-categorical-data-in-pandas-dataframe\n",
    "\n",
    "https://stackoverflow.com/questions/23294616/how-to-use-scikit-learn-pca-for-features-reduction-and-know-which-features-are-d\n",
    "\n",
    "https://scikit-learn.org/stable/modules/generated/sklearn.preprocessing.LabelEncoder.html\n",
    "\n",
    "https://www.geeksforgeeks.org/create-a-pandas-dataframe-from-lists/"
   ]
  },
  {
   "cell_type": "markdown",
   "id": "8b3c4559",
   "metadata": {},
   "source": [
    "## imports"
   ]
  },
  {
   "cell_type": "code",
   "execution_count": 1,
   "id": "ae0a32bb",
   "metadata": {},
   "outputs": [],
   "source": [
    "import numpy as np\n",
    "import pandas as pd \n",
    "import matplotlib.pyplot as plt\n",
    "import copy\n",
    "import time\n",
    "from math import sqrt\n",
    "import seaborn as sns\n",
    "\n",
    "from sklearn import metrics\n",
    "from sklearn.metrics import classification_report\n",
    "from sklearn.metrics import accuracy_score\n",
    "\n",
    "from sklearn.svm import SVR,SVC\n",
    "from sklearn import metrics\n",
    "from sklearn.naive_bayes import BernoulliNB,GaussianNB\n",
    "from sklearn.ensemble import RandomForestClassifier\n",
    "from sklearn.tree import DecisionTreeClassifier\n",
    "from sklearn.neighbors import KNeighborsClassifier\n",
    "from sklearn.linear_model import LogisticRegression,LinearRegression\n",
    "from sklearn.neural_network import MLPClassifier\n",
    "from sklearn.pipeline import make_pipeline\n",
    "import xgboost as xgb\n",
    "from rgf.sklearn import RGFClassifier\n",
    "from sklearn.ensemble import BaggingClassifier\n",
    "from sklearn.ensemble import VotingClassifier\n",
    "from sklearn.ensemble import StackingClassifier\n",
    "from sklearn.model_selection import train_test_split\n",
    "from sklearn.preprocessing import OneHotEncoder\n",
    "from sklearn.metrics import plot_confusion_matrix\n",
    "from sklearn.feature_selection import SelectKBest\n",
    "from sklearn.feature_selection import f_classif\n",
    "from sklearn.feature_selection import RFE\n",
    "from sklearn.decomposition import PCA\n",
    "from sklearn.ensemble import ExtraTreesClassifier\n",
    "from sklearn.preprocessing import MinMaxScaler,StandardScaler,LabelEncoder"
   ]
  },
  {
   "cell_type": "markdown",
   "id": "8177ac1d",
   "metadata": {},
   "source": [
    "## Functions"
   ]
  },
  {
   "cell_type": "code",
   "execution_count": 41,
   "id": "a9b6441d",
   "metadata": {},
   "outputs": [],
   "source": [
    "def execution_time_calculator(start_time):\n",
    "    delta = time.time() - start_time\n",
    "    print(\"--- %s seconds ---\" % (delta))\n",
    "    \n",
    "\n",
    "# def df_clean(df):\n",
    "#     df[\"date\"] = df[\"date\"].apply(time_to_standard)\n",
    "#     df = df.drop_duplicates(subset=['date'])\n",
    "    \n",
    "#     dropped_df = df.dropna(axis=1).dropna().drop(['unix', 'symbol'], axis=1)\n",
    "    \n",
    "    \n",
    "#     return dropped_df\n",
    "\n",
    "\n",
    "def plot_train_data(df):\n",
    "    plt.figure(figsize=(30,10))\n",
    "    plt.plot(df.index, df['Age'])\n",
    "    \n",
    "    #plt.title('Price chart (close) ' + str(ticker))\n",
    "    plt.show()\n",
    "    return None\n",
    "\n",
    "\n",
    "def df_clean(df,mode=0,pre_found_age_value=0):\n",
    "    if mode==0:\n",
    "        age_mean = df.mean(axis=0)[3]\n",
    "    elif mode==1:\n",
    "        age_mean = pre_found_age_value\n",
    "    \n",
    "    values = {\"Age\": age_mean, \"Cabin\": \"-\", \"Embarked\": \"-\",\"Pclass\":0,\"Sex\":\"male\",\"SibSp\":0,\"Parch\":0,\"Ticket\":\"-\",\"Fare\":0}\n",
    "    df = df.fillna(value=values)\n",
    "    # df = df[['PassengerId', 'Pclass', 'Name', 'Sex', 'Age', \"SibSp\", \"Parch\", \"Ticket\", \"Fare\", \"Cabin\", \"Embarked\", \"Survived\"]]\n",
    "    if mode==0:\n",
    "#         df = df\n",
    "        df = df[['Pclass', 'Sex', 'Age', \"SibSp\", \"Parch\", \"Fare\", \"Cabin\", \"Embarked\", \"Survived\"]]\n",
    "    elif mode==1:\n",
    "        df = df[['Pclass', 'Sex', 'Age', \"SibSp\", \"Parch\", \"Fare\", \"Cabin\", \"Embarked\"]]\n",
    "\n",
    "    return df,age_mean\n",
    "\n",
    "def df_encoder(df,mode=0,LEs=None):\n",
    "    if mode==0:\n",
    "        LE_Sex = LabelEncoder()\n",
    "        LE_Cabin = LabelEncoder()\n",
    "        LE_Embarked = LabelEncoder()\n",
    "    elif mode==1:\n",
    "        LE_Sex = LEs[0]\n",
    "        LE_Cabin = LEs[0]\n",
    "        LE_Embarked = LEs[0]\n",
    "    \n",
    "    df['Sex'] = LE_Sex.fit_transform(df['Sex'])\n",
    "    df['Cabin'] = LE_Cabin.fit_transform(df['Cabin'])\n",
    "    df['Embarked'] = LE_Embarked.fit_transform(df['Embarked'])\n",
    "    \n",
    "    return df, LE_Sex, LE_Cabin, LE_Embarked\n",
    "\n",
    "\n",
    "def metrics_calculator(real,pred,mode):\n",
    "    print(\"********\",mode,\"********\",\":\")\n",
    "    metrics_lists=[metrics.accuracy_score,metrics.f1_score,metrics.precision_score,metrics.recall_score,metrics.average_precision_score,metrics.roc_auc_score,metrics.mean_squared_error,metrics.mean_squared_error]\n",
    "    metric_names=[\"Accuracy\",\"F1\",\"Precision\",\"Recall\",\"AP\",\"RoC_AuC\",\"MSE\"]\n",
    "    for metric in range(len(metrics_lists)):\n",
    "        if metric== len(metrics_lists)-1:\n",
    "            metric_value = metrics_lists[metric](real, pred)\n",
    "            print(\"{:20}\".format(\"{}: \".format(\"RMSE\")),sqrt(metric_value))\n",
    "        else:  \n",
    "            metric_value = metrics_lists[metric](real, pred)\n",
    "            print(\"{:20}\".format(\"{}: \".format(metric_names[metric])),metric_value)\n",
    "        \n",
    "#     report = classification_report(real, pred)\n",
    "#     print(report)\n",
    "\n",
    "\n",
    "    \n",
    "def all_models_test(df,models,models_name,x_train,y_train):\n",
    "\n",
    "    classifiers = []\n",
    "    for i in range(len(models)):\n",
    "        print(\"--------\",models_name[i],\"--------\")\n",
    "        clf = models[i].fit(x_train, y_train)\n",
    "        y_pred_train = clf.predict(x_train)\n",
    "        metrics_calculator(y_pred_train,y_train,\"train\")\n",
    "        classifiers.append(clf)\n",
    "    return classifiers"
   ]
  },
  {
   "cell_type": "markdown",
   "id": "6cf0fd1b",
   "metadata": {},
   "source": [
    "## Read and clean train data"
   ]
  },
  {
   "cell_type": "code",
   "execution_count": 3,
   "id": "c8726351",
   "metadata": {},
   "outputs": [],
   "source": [
    "df = pd.read_csv(\"./data/train.csv\")#,skiprows=1)#.iloc[::-1].reset_index().drop([\"index\"], axis=1)"
   ]
  },
  {
   "cell_type": "code",
   "execution_count": 4,
   "id": "cd864e8e",
   "metadata": {},
   "outputs": [
    {
     "name": "stdout",
     "output_type": "stream",
     "text": [
      "(891, 12)\n"
     ]
    },
    {
     "data": {
      "text/html": [
       "<div>\n",
       "<style scoped>\n",
       "    .dataframe tbody tr th:only-of-type {\n",
       "        vertical-align: middle;\n",
       "    }\n",
       "\n",
       "    .dataframe tbody tr th {\n",
       "        vertical-align: top;\n",
       "    }\n",
       "\n",
       "    .dataframe thead th {\n",
       "        text-align: right;\n",
       "    }\n",
       "</style>\n",
       "<table border=\"1\" class=\"dataframe\">\n",
       "  <thead>\n",
       "    <tr style=\"text-align: right;\">\n",
       "      <th></th>\n",
       "      <th>PassengerId</th>\n",
       "      <th>Survived</th>\n",
       "      <th>Pclass</th>\n",
       "      <th>Name</th>\n",
       "      <th>Sex</th>\n",
       "      <th>Age</th>\n",
       "      <th>SibSp</th>\n",
       "      <th>Parch</th>\n",
       "      <th>Ticket</th>\n",
       "      <th>Fare</th>\n",
       "      <th>Cabin</th>\n",
       "      <th>Embarked</th>\n",
       "    </tr>\n",
       "  </thead>\n",
       "  <tbody>\n",
       "    <tr>\n",
       "      <th>0</th>\n",
       "      <td>1</td>\n",
       "      <td>0</td>\n",
       "      <td>3</td>\n",
       "      <td>Braund, Mr. Owen Harris</td>\n",
       "      <td>male</td>\n",
       "      <td>22.0</td>\n",
       "      <td>1</td>\n",
       "      <td>0</td>\n",
       "      <td>A/5 21171</td>\n",
       "      <td>7.2500</td>\n",
       "      <td>NaN</td>\n",
       "      <td>S</td>\n",
       "    </tr>\n",
       "    <tr>\n",
       "      <th>1</th>\n",
       "      <td>2</td>\n",
       "      <td>1</td>\n",
       "      <td>1</td>\n",
       "      <td>Cumings, Mrs. John Bradley (Florence Briggs Th...</td>\n",
       "      <td>female</td>\n",
       "      <td>38.0</td>\n",
       "      <td>1</td>\n",
       "      <td>0</td>\n",
       "      <td>PC 17599</td>\n",
       "      <td>71.2833</td>\n",
       "      <td>C85</td>\n",
       "      <td>C</td>\n",
       "    </tr>\n",
       "    <tr>\n",
       "      <th>2</th>\n",
       "      <td>3</td>\n",
       "      <td>1</td>\n",
       "      <td>3</td>\n",
       "      <td>Heikkinen, Miss. Laina</td>\n",
       "      <td>female</td>\n",
       "      <td>26.0</td>\n",
       "      <td>0</td>\n",
       "      <td>0</td>\n",
       "      <td>STON/O2. 3101282</td>\n",
       "      <td>7.9250</td>\n",
       "      <td>NaN</td>\n",
       "      <td>S</td>\n",
       "    </tr>\n",
       "    <tr>\n",
       "      <th>3</th>\n",
       "      <td>4</td>\n",
       "      <td>1</td>\n",
       "      <td>1</td>\n",
       "      <td>Futrelle, Mrs. Jacques Heath (Lily May Peel)</td>\n",
       "      <td>female</td>\n",
       "      <td>35.0</td>\n",
       "      <td>1</td>\n",
       "      <td>0</td>\n",
       "      <td>113803</td>\n",
       "      <td>53.1000</td>\n",
       "      <td>C123</td>\n",
       "      <td>S</td>\n",
       "    </tr>\n",
       "    <tr>\n",
       "      <th>4</th>\n",
       "      <td>5</td>\n",
       "      <td>0</td>\n",
       "      <td>3</td>\n",
       "      <td>Allen, Mr. William Henry</td>\n",
       "      <td>male</td>\n",
       "      <td>35.0</td>\n",
       "      <td>0</td>\n",
       "      <td>0</td>\n",
       "      <td>373450</td>\n",
       "      <td>8.0500</td>\n",
       "      <td>NaN</td>\n",
       "      <td>S</td>\n",
       "    </tr>\n",
       "  </tbody>\n",
       "</table>\n",
       "</div>"
      ],
      "text/plain": [
       "   PassengerId  Survived  Pclass  \\\n",
       "0            1         0       3   \n",
       "1            2         1       1   \n",
       "2            3         1       3   \n",
       "3            4         1       1   \n",
       "4            5         0       3   \n",
       "\n",
       "                                                Name     Sex   Age  SibSp  \\\n",
       "0                            Braund, Mr. Owen Harris    male  22.0      1   \n",
       "1  Cumings, Mrs. John Bradley (Florence Briggs Th...  female  38.0      1   \n",
       "2                             Heikkinen, Miss. Laina  female  26.0      0   \n",
       "3       Futrelle, Mrs. Jacques Heath (Lily May Peel)  female  35.0      1   \n",
       "4                           Allen, Mr. William Henry    male  35.0      0   \n",
       "\n",
       "   Parch            Ticket     Fare Cabin Embarked  \n",
       "0      0         A/5 21171   7.2500   NaN        S  \n",
       "1      0          PC 17599  71.2833   C85        C  \n",
       "2      0  STON/O2. 3101282   7.9250   NaN        S  \n",
       "3      0            113803  53.1000  C123        S  \n",
       "4      0            373450   8.0500   NaN        S  "
      ]
     },
     "execution_count": 4,
     "metadata": {},
     "output_type": "execute_result"
    }
   ],
   "source": [
    "print(df.shape)\n",
    "df.head()"
   ]
  },
  {
   "cell_type": "code",
   "execution_count": 5,
   "id": "a7aeda26",
   "metadata": {},
   "outputs": [
    {
     "name": "stderr",
     "output_type": "stream",
     "text": [
      "C:\\Users\\Tohid\\anaconda\\envs\\pattern7\\lib\\site-packages\\ipykernel_launcher.py:27: FutureWarning: Dropping of nuisance columns in DataFrame reductions (with 'numeric_only=None') is deprecated; in a future version this will raise TypeError.  Select only valid columns before calling the reduction.\n"
     ]
    }
   ],
   "source": [
    "df,age_mean = df_clean(df)"
   ]
  },
  {
   "cell_type": "code",
   "execution_count": 6,
   "id": "2b6cbdc3",
   "metadata": {},
   "outputs": [
    {
     "data": {
      "text/html": [
       "<div>\n",
       "<style scoped>\n",
       "    .dataframe tbody tr th:only-of-type {\n",
       "        vertical-align: middle;\n",
       "    }\n",
       "\n",
       "    .dataframe tbody tr th {\n",
       "        vertical-align: top;\n",
       "    }\n",
       "\n",
       "    .dataframe thead th {\n",
       "        text-align: right;\n",
       "    }\n",
       "</style>\n",
       "<table border=\"1\" class=\"dataframe\">\n",
       "  <thead>\n",
       "    <tr style=\"text-align: right;\">\n",
       "      <th></th>\n",
       "      <th>Pclass</th>\n",
       "      <th>Sex</th>\n",
       "      <th>Age</th>\n",
       "      <th>SibSp</th>\n",
       "      <th>Parch</th>\n",
       "      <th>Fare</th>\n",
       "      <th>Cabin</th>\n",
       "      <th>Embarked</th>\n",
       "      <th>Survived</th>\n",
       "    </tr>\n",
       "  </thead>\n",
       "  <tbody>\n",
       "    <tr>\n",
       "      <th>0</th>\n",
       "      <td>3</td>\n",
       "      <td>male</td>\n",
       "      <td>22.0</td>\n",
       "      <td>1</td>\n",
       "      <td>0</td>\n",
       "      <td>7.2500</td>\n",
       "      <td>-</td>\n",
       "      <td>S</td>\n",
       "      <td>0</td>\n",
       "    </tr>\n",
       "    <tr>\n",
       "      <th>1</th>\n",
       "      <td>1</td>\n",
       "      <td>female</td>\n",
       "      <td>38.0</td>\n",
       "      <td>1</td>\n",
       "      <td>0</td>\n",
       "      <td>71.2833</td>\n",
       "      <td>C85</td>\n",
       "      <td>C</td>\n",
       "      <td>1</td>\n",
       "    </tr>\n",
       "    <tr>\n",
       "      <th>2</th>\n",
       "      <td>3</td>\n",
       "      <td>female</td>\n",
       "      <td>26.0</td>\n",
       "      <td>0</td>\n",
       "      <td>0</td>\n",
       "      <td>7.9250</td>\n",
       "      <td>-</td>\n",
       "      <td>S</td>\n",
       "      <td>1</td>\n",
       "    </tr>\n",
       "    <tr>\n",
       "      <th>3</th>\n",
       "      <td>1</td>\n",
       "      <td>female</td>\n",
       "      <td>35.0</td>\n",
       "      <td>1</td>\n",
       "      <td>0</td>\n",
       "      <td>53.1000</td>\n",
       "      <td>C123</td>\n",
       "      <td>S</td>\n",
       "      <td>1</td>\n",
       "    </tr>\n",
       "    <tr>\n",
       "      <th>4</th>\n",
       "      <td>3</td>\n",
       "      <td>male</td>\n",
       "      <td>35.0</td>\n",
       "      <td>0</td>\n",
       "      <td>0</td>\n",
       "      <td>8.0500</td>\n",
       "      <td>-</td>\n",
       "      <td>S</td>\n",
       "      <td>0</td>\n",
       "    </tr>\n",
       "  </tbody>\n",
       "</table>\n",
       "</div>"
      ],
      "text/plain": [
       "   Pclass     Sex   Age  SibSp  Parch     Fare Cabin Embarked  Survived\n",
       "0       3    male  22.0      1      0   7.2500     -        S         0\n",
       "1       1  female  38.0      1      0  71.2833   C85        C         1\n",
       "2       3  female  26.0      0      0   7.9250     -        S         1\n",
       "3       1  female  35.0      1      0  53.1000  C123        S         1\n",
       "4       3    male  35.0      0      0   8.0500     -        S         0"
      ]
     },
     "execution_count": 6,
     "metadata": {},
     "output_type": "execute_result"
    }
   ],
   "source": [
    "df.head()"
   ]
  },
  {
   "cell_type": "markdown",
   "id": "19a7f7a7",
   "metadata": {},
   "source": [
    "## some info about data"
   ]
  },
  {
   "cell_type": "code",
   "execution_count": 7,
   "id": "256b5fe9",
   "metadata": {},
   "outputs": [
    {
     "name": "stdout",
     "output_type": "stream",
     "text": [
      "<class 'pandas.core.frame.DataFrame'>\n",
      "RangeIndex: 891 entries, 0 to 890\n",
      "Data columns (total 9 columns):\n",
      " #   Column    Non-Null Count  Dtype  \n",
      "---  ------    --------------  -----  \n",
      " 0   Pclass    891 non-null    int64  \n",
      " 1   Sex       891 non-null    object \n",
      " 2   Age       891 non-null    float64\n",
      " 3   SibSp     891 non-null    int64  \n",
      " 4   Parch     891 non-null    int64  \n",
      " 5   Fare      891 non-null    float64\n",
      " 6   Cabin     891 non-null    object \n",
      " 7   Embarked  891 non-null    object \n",
      " 8   Survived  891 non-null    int64  \n",
      "dtypes: float64(2), int64(4), object(3)\n",
      "memory usage: 62.8+ KB\n"
     ]
    }
   ],
   "source": [
    "df.info()"
   ]
  },
  {
   "cell_type": "code",
   "execution_count": 8,
   "id": "51e7ce10",
   "metadata": {},
   "outputs": [
    {
     "data": {
      "text/plain": [
       "<AxesSubplot:xlabel='Embarked', ylabel='count'>"
      ]
     },
     "execution_count": 8,
     "metadata": {},
     "output_type": "execute_result"
    },
    {
     "data": {
      "image/png": "[encoded data removed]",
      "text/plain": [
       "<Figure size 432x288 with 1 Axes>"
      ]
     },
     "metadata": {
      "needs_background": "light"
     },
     "output_type": "display_data"
    }
   ],
   "source": [
    "# df[\"Cabin\"].unique()\n",
    "# df[\"Cabin\"].describe()\n",
    "# df[\"Cabin\"].value_counts()\n",
    "# df['Embarked'].value_counts().idxmax()\n",
    "\n",
    "sns.countplot(x='Embarked',data=df,palette='Set2')"
   ]
  },
  {
   "cell_type": "code",
   "execution_count": 9,
   "id": "ffcbbbe2",
   "metadata": {},
   "outputs": [
    {
     "data": {
      "image/png": "[encoded data removed]",
      "text/plain": [
       "<Figure size 720x720 with 36 Axes>"
      ]
     },
     "metadata": {
      "needs_background": "light"
     },
     "output_type": "display_data"
    }
   ],
   "source": [
    "pd.plotting.scatter_matrix(df, diagonal='kde', figsize=(10, 10));"
   ]
  },
  {
   "cell_type": "code",
   "execution_count": 10,
   "id": "5e361815",
   "metadata": {
    "scrolled": true
   },
   "outputs": [
    {
     "data": {
      "image/png": "[encoded data removed]",
      "text/plain": [
       "<Figure size 432x288 with 2 Axes>"
      ]
     },
     "metadata": {
      "needs_background": "light"
     },
     "output_type": "display_data"
    }
   ],
   "source": [
    "sns.heatmap(df.corr(),annot=True,cmap=\"RdYlGn\");"
   ]
  },
  {
   "cell_type": "code",
   "execution_count": null,
   "id": "f4a1b5f4",
   "metadata": {},
   "outputs": [],
   "source": []
  },
  {
   "cell_type": "markdown",
   "id": "c9c0c975",
   "metadata": {},
   "source": [
    "## Encode categorical data"
   ]
  },
  {
   "cell_type": "code",
   "execution_count": 11,
   "id": "a9f20cf2",
   "metadata": {},
   "outputs": [],
   "source": [
    "df, LE_Sex, LE_Cabin, LE_Embarked = df_encoder(df)\n",
    "\n",
    "\n",
    "# pandas encoding - not good when we want to apply on test data\n",
    "\n",
    "# df['Sex'] = df['Sex'].astype('category')\n",
    "# df['Cabin'] = df['Cabin'].astype('category')\n",
    "# df['Embarked'] = df['Embarked'].astype('category')\n",
    "# OneHotEncoder().fit_transform(df)\n",
    "# cat_columns = df.select_dtypes(['category']).columns\n",
    "# df[cat_columns] = df[cat_columns].apply(lambda x: x.cat.codes)"
   ]
  },
  {
   "cell_type": "code",
   "execution_count": 12,
   "id": "7cf5d4d8",
   "metadata": {},
   "outputs": [
    {
     "data": {
      "text/html": [
       "<div>\n",
       "<style scoped>\n",
       "    .dataframe tbody tr th:only-of-type {\n",
       "        vertical-align: middle;\n",
       "    }\n",
       "\n",
       "    .dataframe tbody tr th {\n",
       "        vertical-align: top;\n",
       "    }\n",
       "\n",
       "    .dataframe thead th {\n",
       "        text-align: right;\n",
       "    }\n",
       "</style>\n",
       "<table border=\"1\" class=\"dataframe\">\n",
       "  <thead>\n",
       "    <tr style=\"text-align: right;\">\n",
       "      <th></th>\n",
       "      <th>Pclass</th>\n",
       "      <th>Sex</th>\n",
       "      <th>Age</th>\n",
       "      <th>SibSp</th>\n",
       "      <th>Parch</th>\n",
       "      <th>Fare</th>\n",
       "      <th>Cabin</th>\n",
       "      <th>Embarked</th>\n",
       "      <th>Survived</th>\n",
       "    </tr>\n",
       "  </thead>\n",
       "  <tbody>\n",
       "    <tr>\n",
       "      <th>0</th>\n",
       "      <td>3</td>\n",
       "      <td>1</td>\n",
       "      <td>22.0</td>\n",
       "      <td>1</td>\n",
       "      <td>0</td>\n",
       "      <td>7.2500</td>\n",
       "      <td>0</td>\n",
       "      <td>3</td>\n",
       "      <td>0</td>\n",
       "    </tr>\n",
       "    <tr>\n",
       "      <th>1</th>\n",
       "      <td>1</td>\n",
       "      <td>0</td>\n",
       "      <td>38.0</td>\n",
       "      <td>1</td>\n",
       "      <td>0</td>\n",
       "      <td>71.2833</td>\n",
       "      <td>82</td>\n",
       "      <td>1</td>\n",
       "      <td>1</td>\n",
       "    </tr>\n",
       "    <tr>\n",
       "      <th>2</th>\n",
       "      <td>3</td>\n",
       "      <td>0</td>\n",
       "      <td>26.0</td>\n",
       "      <td>0</td>\n",
       "      <td>0</td>\n",
       "      <td>7.9250</td>\n",
       "      <td>0</td>\n",
       "      <td>3</td>\n",
       "      <td>1</td>\n",
       "    </tr>\n",
       "    <tr>\n",
       "      <th>3</th>\n",
       "      <td>1</td>\n",
       "      <td>0</td>\n",
       "      <td>35.0</td>\n",
       "      <td>1</td>\n",
       "      <td>0</td>\n",
       "      <td>53.1000</td>\n",
       "      <td>56</td>\n",
       "      <td>3</td>\n",
       "      <td>1</td>\n",
       "    </tr>\n",
       "    <tr>\n",
       "      <th>4</th>\n",
       "      <td>3</td>\n",
       "      <td>1</td>\n",
       "      <td>35.0</td>\n",
       "      <td>0</td>\n",
       "      <td>0</td>\n",
       "      <td>8.0500</td>\n",
       "      <td>0</td>\n",
       "      <td>3</td>\n",
       "      <td>0</td>\n",
       "    </tr>\n",
       "  </tbody>\n",
       "</table>\n",
       "</div>"
      ],
      "text/plain": [
       "   Pclass  Sex   Age  SibSp  Parch     Fare  Cabin  Embarked  Survived\n",
       "0       3    1  22.0      1      0   7.2500      0         3         0\n",
       "1       1    0  38.0      1      0  71.2833     82         1         1\n",
       "2       3    0  26.0      0      0   7.9250      0         3         1\n",
       "3       1    0  35.0      1      0  53.1000     56         3         1\n",
       "4       3    1  35.0      0      0   8.0500      0         3         0"
      ]
     },
     "execution_count": 12,
     "metadata": {},
     "output_type": "execute_result"
    }
   ],
   "source": [
    "df.head()"
   ]
  },
  {
   "cell_type": "code",
   "execution_count": 13,
   "id": "741c74d5",
   "metadata": {
    "scrolled": true
   },
   "outputs": [],
   "source": [
    "# df.info()"
   ]
  },
  {
   "cell_type": "code",
   "execution_count": 14,
   "id": "85515b3d",
   "metadata": {},
   "outputs": [],
   "source": [
    "array = df.values\n",
    "X = array[:,:-1]\n",
    "Y = array[:,-1]"
   ]
  },
  {
   "cell_type": "markdown",
   "id": "2ab9ac66",
   "metadata": {},
   "source": [
    "## PCA"
   ]
  },
  {
   "cell_type": "code",
   "execution_count": 15,
   "id": "3c3ab7eb",
   "metadata": {},
   "outputs": [
    {
     "name": "stdout",
     "output_type": "stream",
     "text": [
      "[6.69591682e-01 2.89634969e-01 4.00730257e-02 3.10136191e-04\n",
      " 1.45071161e-04 1.14935589e-04]\n",
      "6\n",
      "0.9998698193599477\n"
     ]
    }
   ],
   "source": [
    "pca = PCA(n_components=6)\n",
    "fit = pca.fit(X)\n",
    "# summarize components\n",
    "explained_variance_ratio=fit.explained_variance_ratio_\n",
    "\n",
    "print(explained_variance_ratio)\n",
    "print(len(explained_variance_ratio))\n",
    "print(sum(explained_variance_ratio))\n",
    "x_pca_train = pca.transform(X)\n",
    "y_train = Y\n",
    "x_train = X"
   ]
  },
  {
   "cell_type": "markdown",
   "id": "69024781",
   "metadata": {},
   "source": [
    "## Classifiers"
   ]
  },
  {
   "cell_type": "code",
   "execution_count": 42,
   "id": "bab4d538",
   "metadata": {
    "scrolled": true
   },
   "outputs": [],
   "source": [
    "BNB = BernoulliNB()\n",
    "GNB = GaussianNB()\n",
    "RF = RandomForestClassifier()\n",
    "DTree = DecisionTreeClassifier()\n",
    "KNN = KNeighborsClassifier()\n",
    "LR = LogisticRegression()\n",
    "MLP = make_pipeline(MinMaxScaler(), MLPClassifier(random_state=0, shuffle=False))\n",
    "XGB = xgb.XGBClassifier(eval_metric='mlogloss')\n",
    "SVC_auto = make_pipeline(MinMaxScaler(), SVC(gamma=\"auto\"))\n",
    "RGF = RGFClassifier()\n",
    "Bagging = BaggingClassifier(random_state=0)\n",
    "estimators = [\n",
    "   ('xgb', xgb.XGBClassifier(eval_metric='mlogloss')),\n",
    "   ('lr', LogisticRegression()),\n",
    "   ('nb', BernoulliNB()),\n",
    "   ('rgf', RGFClassifier()),\n",
    "   ('svm', make_pipeline(StandardScaler(), SVC(gamma=\"auto\"))),\n",
    "   ('mlp', make_pipeline(StandardScaler(), MLPClassifier(random_state=0, shuffle=False))),\n",
    "]\n",
    "Voting = VotingClassifier(estimators)\n",
    "Stacking = StackingClassifier(estimators, LogisticRegression())\n",
    "custom_RF=RandomForestClassifier(n_estimators=50, criterion='gini', max_depth=6, min_samples_leaf=6, warm_start=True)\n",
    "\n",
    "models = [BNB,GNB,RF,custom_RF,DTree,KNN,LR,MLP,XGB,SVC_auto,RGF,Bagging,Voting,Stacking]\n",
    "models_name = [\"BNB\",\"GNB\",\"RF\",\"custom_RF\",\"DTree\",\"KNN\",\"LR\",\"MLP\",\"XGB\",\"SVC_auto\",\"RGF\",\"Bagging\",\"Voting\",\"Stacking\"]\n"
   ]
  },
  {
   "cell_type": "code",
   "execution_count": 43,
   "id": "57288f0c",
   "metadata": {},
   "outputs": [
    {
     "name": "stdout",
     "output_type": "stream",
     "text": [
      "-------- BNB --------\n",
      "******** train ******** :\n",
      "Accuracy:            0.7856341189674523\n",
      "F1:                  0.7203513909224013\n",
      "Precision:           0.7192982456140351\n",
      "Recall:              0.7214076246334311\n",
      "AP:                  0.6255290120598553\n",
      "RoC_AuC:             0.7734310850439883\n",
      "MSE:                 0.2143658810325477\n",
      "RMSE:                0.46299663177235717\n",
      "-------- GNB --------\n",
      "******** train ******** :\n",
      "Accuracy:            0.7991021324354658\n",
      "F1:                  0.7316341829085456\n",
      "Precision:           0.7134502923976608\n",
      "Recall:              0.7507692307692307\n",
      "AP:                  0.6265456181245654\n",
      "RoC_AuC:             0.7888121772220713\n",
      "MSE:                 0.20089786756453423\n",
      "RMSE:                0.44821631782492505\n",
      "-------- RF --------\n",
      "******** train ******** :\n",
      "Accuracy:            0.9865319865319865\n",
      "F1:                  0.9823008849557523\n",
      "Precision:           0.9736842105263158\n",
      "Recall:              0.9910714285714286\n",
      "AP:                  0.9683576048707628\n",
      "RoC_AuC:             0.987427606177606\n",
      "MSE:                 0.013468013468013467\n",
      "RMSE:                0.11605177063713189\n",
      "-------- custom_RF --------\n",
      "******** train ******** :\n",
      "Accuracy:            0.8641975308641975\n",
      "F1:                  0.8082408874801902\n",
      "Precision:           0.7456140350877193\n",
      "Recall:              0.8823529411764706\n",
      "AP:                  0.6960541083348101\n",
      "RoC_AuC:             0.8689173343756107\n",
      "MSE:                 0.13580246913580246\n",
      "RMSE:                0.3685138655950444\n",
      "-------- DTree --------\n",
      "******** train ******** :\n",
      "Accuracy:            0.9865319865319865\n",
      "F1:                  0.9822485207100592\n",
      "Precision:           0.9707602339181286\n",
      "Recall:              0.9940119760479041\n",
      "AP:                  0.9671919672970203\n",
      "RoC_AuC:             0.988029327341726\n",
      "MSE:                 0.013468013468013467\n",
      "RMSE:                0.11605177063713189\n",
      "-------- KNN --------\n",
      "******** train ******** :\n",
      "Accuracy:            0.8114478114478114\n",
      "F1:                  0.7383177570093459\n",
      "Precision:           0.6929824561403509\n",
      "Recall:              0.79\n",
      "AP:                  0.618163211057948\n",
      "RoC_AuC:             0.8061675126903554\n",
      "MSE:                 0.18855218855218855\n",
      "RMSE:                0.4342259648526197\n",
      "-------- LR --------\n",
      "******** train ******** :\n",
      "Accuracy:            0.8103254769921436\n",
      "F1:                  0.7458646616541353\n",
      "Precision:           0.7251461988304093\n",
      "Recall:              0.7678018575851393\n",
      "AP:                  0.6409436826578752\n",
      "RoC_AuC:             0.8011544499193302\n",
      "MSE:                 0.18967452300785634\n",
      "RMSE:                0.4355163866123252\n",
      "-------- MLP --------\n"
     ]
    },
    {
     "name": "stderr",
     "output_type": "stream",
     "text": [
      "C:\\Users\\Tohid\\anaconda\\envs\\pattern7\\lib\\site-packages\\sklearn\\neural_network\\_multilayer_perceptron.py:617: ConvergenceWarning: Stochastic Optimizer: Maximum iterations (200) reached and the optimization hasn't converged yet.\n",
      "  % self.max_iter, ConvergenceWarning)\n",
      "C:\\Users\\Tohid\\anaconda\\envs\\pattern7\\lib\\site-packages\\xgboost\\sklearn.py:1146: UserWarning: The use of label encoder in XGBClassifier is deprecated and will be removed in a future release. To remove this warning, do the following: 1) Pass option use_label_encoder=False when constructing XGBClassifier object; and 2) Encode your labels (y) as integers starting with 0, i.e. 0, 1, 2, ..., [num_class - 1].\n",
      "  warnings.warn(label_encoder_deprecation_msg, UserWarning)\n"
     ]
    },
    {
     "name": "stdout",
     "output_type": "stream",
     "text": [
      "******** train ******** :\n",
      "Accuracy:            0.8338945005611672\n",
      "F1:                  0.768025078369906\n",
      "Precision:           0.716374269005848\n",
      "Recall:              0.8277027027027027\n",
      "AP:                  0.6501839758418706\n",
      "RoC_AuC:             0.8323387463093346\n",
      "MSE:                 0.16610549943883277\n",
      "RMSE:                0.4075604242794346\n",
      "-------- XGB --------\n"
     ]
    },
    {
     "name": "stderr",
     "output_type": "stream",
     "text": [
      "C:\\Users\\Tohid\\anaconda\\envs\\pattern7\\lib\\site-packages\\xgboost\\data.py:114: UserWarning: Use subset (sliced data) of np.ndarray is not recommended because it will generate extra copies and increase memory consumption\n",
      "  \"because it will generate extra copies and increase \" +\n"
     ]
    },
    {
     "name": "stdout",
     "output_type": "stream",
     "text": [
      "******** train ******** :\n",
      "Accuracy:            0.9719416386083053\n",
      "F1:                  0.9625187406296851\n",
      "Precision:           0.9385964912280702\n",
      "Recall:              0.9876923076923076\n",
      "AP:                  0.9315338722356266\n",
      "RoC_AuC:             0.9752949170970371\n",
      "MSE:                 0.028058361391694726\n",
      "RMSE:                0.167506302543202\n",
      "-------- SVC_auto --------\n",
      "******** train ******** :\n",
      "Accuracy:            0.7867564534231201\n",
      "F1:                  0.7103658536585367\n",
      "Precision:           0.6812865497076024\n",
      "Recall:              0.7420382165605095\n",
      "AP:                  0.5964497472207831\n",
      "RoC_AuC:             0.7765650354899601\n",
      "MSE:                 0.2132435465768799\n",
      "RMSE:                0.46178300810757417\n",
      "-------- RGF --------\n",
      "******** train ******** :\n",
      "Accuracy:            0.9012345679012346\n",
      "F1:                  0.8646153846153847\n",
      "Precision:           0.8216374269005848\n",
      "Recall:              0.9123376623376623\n",
      "AP:                  0.7799137996506418\n",
      "RoC_AuC:             0.9038532222494486\n",
      "MSE:                 0.09876543209876543\n",
      "RMSE:                0.31426968052735443\n",
      "-------- Bagging --------\n",
      "******** train ******** :\n",
      "Accuracy:            0.9663299663299664\n",
      "F1:                  0.9545454545454546\n",
      "Precision:           0.9210526315789473\n",
      "Recall:              0.9905660377358491\n",
      "AP:                  0.915730459176338\n",
      "RoC_AuC:             0.9717228094438407\n",
      "MSE:                 0.03367003367003367\n",
      "RMSE:                0.18349396085439343\n",
      "-------- Voting --------\n"
     ]
    },
    {
     "name": "stderr",
     "output_type": "stream",
     "text": [
      "C:\\Users\\Tohid\\anaconda\\envs\\pattern7\\lib\\site-packages\\xgboost\\sklearn.py:1146: UserWarning: The use of label encoder in XGBClassifier is deprecated and will be removed in a future release. To remove this warning, do the following: 1) Pass option use_label_encoder=False when constructing XGBClassifier object; and 2) Encode your labels (y) as integers starting with 0, i.e. 0, 1, 2, ..., [num_class - 1].\n",
      "  warnings.warn(label_encoder_deprecation_msg, UserWarning)\n",
      "C:\\Users\\Tohid\\anaconda\\envs\\pattern7\\lib\\site-packages\\sklearn\\neural_network\\_multilayer_perceptron.py:617: ConvergenceWarning: Stochastic Optimizer: Maximum iterations (200) reached and the optimization hasn't converged yet.\n",
      "  % self.max_iter, ConvergenceWarning)\n",
      "C:\\Users\\Tohid\\anaconda\\envs\\pattern7\\lib\\site-packages\\xgboost\\data.py:114: UserWarning: Use subset (sliced data) of np.ndarray is not recommended because it will generate extra copies and increase memory consumption\n",
      "  \"because it will generate extra copies and increase \" +\n"
     ]
    },
    {
     "name": "stdout",
     "output_type": "stream",
     "text": [
      "******** train ******** :\n",
      "Accuracy:            0.8686868686868687\n",
      "F1:                  0.815748031496063\n",
      "Precision:           0.7573099415204678\n",
      "Recall:              0.8839590443686007\n",
      "AP:                  0.7075903436899784\n",
      "RoC_AuC:             0.8725815288732636\n",
      "MSE:                 0.13131313131313133\n",
      "RMSE:                0.36237153766973934\n",
      "-------- Stacking --------\n"
     ]
    },
    {
     "name": "stderr",
     "output_type": "stream",
     "text": [
      "C:\\Users\\Tohid\\anaconda\\envs\\pattern7\\lib\\site-packages\\xgboost\\sklearn.py:1146: UserWarning: The use of label encoder in XGBClassifier is deprecated and will be removed in a future release. To remove this warning, do the following: 1) Pass option use_label_encoder=False when constructing XGBClassifier object; and 2) Encode your labels (y) as integers starting with 0, i.e. 0, 1, 2, ..., [num_class - 1].\n",
      "  warnings.warn(label_encoder_deprecation_msg, UserWarning)\n",
      "C:\\Users\\Tohid\\anaconda\\envs\\pattern7\\lib\\site-packages\\sklearn\\neural_network\\_multilayer_perceptron.py:617: ConvergenceWarning: Stochastic Optimizer: Maximum iterations (200) reached and the optimization hasn't converged yet.\n",
      "  % self.max_iter, ConvergenceWarning)\n",
      "C:\\Users\\Tohid\\anaconda\\envs\\pattern7\\lib\\site-packages\\xgboost\\sklearn.py:1146: UserWarning: The use of label encoder in XGBClassifier is deprecated and will be removed in a future release. To remove this warning, do the following: 1) Pass option use_label_encoder=False when constructing XGBClassifier object; and 2) Encode your labels (y) as integers starting with 0, i.e. 0, 1, 2, ..., [num_class - 1].\n",
      "  warnings.warn(label_encoder_deprecation_msg, UserWarning)\n",
      "C:\\Users\\Tohid\\anaconda\\envs\\pattern7\\lib\\site-packages\\xgboost\\sklearn.py:1146: UserWarning: The use of label encoder in XGBClassifier is deprecated and will be removed in a future release. To remove this warning, do the following: 1) Pass option use_label_encoder=False when constructing XGBClassifier object; and 2) Encode your labels (y) as integers starting with 0, i.e. 0, 1, 2, ..., [num_class - 1].\n",
      "  warnings.warn(label_encoder_deprecation_msg, UserWarning)\n",
      "C:\\Users\\Tohid\\anaconda\\envs\\pattern7\\lib\\site-packages\\xgboost\\sklearn.py:1146: UserWarning: The use of label encoder in XGBClassifier is deprecated and will be removed in a future release. To remove this warning, do the following: 1) Pass option use_label_encoder=False when constructing XGBClassifier object; and 2) Encode your labels (y) as integers starting with 0, i.e. 0, 1, 2, ..., [num_class - 1].\n",
      "  warnings.warn(label_encoder_deprecation_msg, UserWarning)\n",
      "C:\\Users\\Tohid\\anaconda\\envs\\pattern7\\lib\\site-packages\\xgboost\\sklearn.py:1146: UserWarning: The use of label encoder in XGBClassifier is deprecated and will be removed in a future release. To remove this warning, do the following: 1) Pass option use_label_encoder=False when constructing XGBClassifier object; and 2) Encode your labels (y) as integers starting with 0, i.e. 0, 1, 2, ..., [num_class - 1].\n",
      "  warnings.warn(label_encoder_deprecation_msg, UserWarning)\n",
      "C:\\Users\\Tohid\\anaconda\\envs\\pattern7\\lib\\site-packages\\xgboost\\sklearn.py:1146: UserWarning: The use of label encoder in XGBClassifier is deprecated and will be removed in a future release. To remove this warning, do the following: 1) Pass option use_label_encoder=False when constructing XGBClassifier object; and 2) Encode your labels (y) as integers starting with 0, i.e. 0, 1, 2, ..., [num_class - 1].\n",
      "  warnings.warn(label_encoder_deprecation_msg, UserWarning)\n",
      "C:\\Users\\Tohid\\anaconda\\envs\\pattern7\\lib\\site-packages\\sklearn\\linear_model\\_logistic.py:765: ConvergenceWarning: lbfgs failed to converge (status=1):\n",
      "STOP: TOTAL NO. of ITERATIONS REACHED LIMIT.\n",
      "\n",
      "Increase the number of iterations (max_iter) or scale the data as shown in:\n",
      "    https://scikit-learn.org/stable/modules/preprocessing.html\n",
      "Please also refer to the documentation for alternative solver options:\n",
      "    https://scikit-learn.org/stable/modules/linear_model.html#logistic-regression\n",
      "  extra_warning_msg=_LOGISTIC_SOLVER_CONVERGENCE_MSG)\n",
      "C:\\Users\\Tohid\\anaconda\\envs\\pattern7\\lib\\site-packages\\sklearn\\linear_model\\_logistic.py:765: ConvergenceWarning: lbfgs failed to converge (status=1):\n",
      "STOP: TOTAL NO. of ITERATIONS REACHED LIMIT.\n",
      "\n",
      "Increase the number of iterations (max_iter) or scale the data as shown in:\n",
      "    https://scikit-learn.org/stable/modules/preprocessing.html\n",
      "Please also refer to the documentation for alternative solver options:\n",
      "    https://scikit-learn.org/stable/modules/linear_model.html#logistic-regression\n",
      "  extra_warning_msg=_LOGISTIC_SOLVER_CONVERGENCE_MSG)\n",
      "C:\\Users\\Tohid\\anaconda\\envs\\pattern7\\lib\\site-packages\\sklearn\\linear_model\\_logistic.py:765: ConvergenceWarning: lbfgs failed to converge (status=1):\n",
      "STOP: TOTAL NO. of ITERATIONS REACHED LIMIT.\n",
      "\n",
      "Increase the number of iterations (max_iter) or scale the data as shown in:\n",
      "    https://scikit-learn.org/stable/modules/preprocessing.html\n",
      "Please also refer to the documentation for alternative solver options:\n",
      "    https://scikit-learn.org/stable/modules/linear_model.html#logistic-regression\n",
      "  extra_warning_msg=_LOGISTIC_SOLVER_CONVERGENCE_MSG)\n",
      "C:\\Users\\Tohid\\anaconda\\envs\\pattern7\\lib\\site-packages\\sklearn\\linear_model\\_logistic.py:765: ConvergenceWarning: lbfgs failed to converge (status=1):\n",
      "STOP: TOTAL NO. of ITERATIONS REACHED LIMIT.\n",
      "\n",
      "Increase the number of iterations (max_iter) or scale the data as shown in:\n",
      "    https://scikit-learn.org/stable/modules/preprocessing.html\n",
      "Please also refer to the documentation for alternative solver options:\n",
      "    https://scikit-learn.org/stable/modules/linear_model.html#logistic-regression\n",
      "  extra_warning_msg=_LOGISTIC_SOLVER_CONVERGENCE_MSG)\n",
      "C:\\Users\\Tohid\\anaconda\\envs\\pattern7\\lib\\site-packages\\sklearn\\neural_network\\_multilayer_perceptron.py:617: ConvergenceWarning: Stochastic Optimizer: Maximum iterations (200) reached and the optimization hasn't converged yet.\n",
      "  % self.max_iter, ConvergenceWarning)\n",
      "C:\\Users\\Tohid\\anaconda\\envs\\pattern7\\lib\\site-packages\\sklearn\\neural_network\\_multilayer_perceptron.py:617: ConvergenceWarning: Stochastic Optimizer: Maximum iterations (200) reached and the optimization hasn't converged yet.\n",
      "  % self.max_iter, ConvergenceWarning)\n",
      "C:\\Users\\Tohid\\anaconda\\envs\\pattern7\\lib\\site-packages\\sklearn\\neural_network\\_multilayer_perceptron.py:617: ConvergenceWarning: Stochastic Optimizer: Maximum iterations (200) reached and the optimization hasn't converged yet.\n",
      "  % self.max_iter, ConvergenceWarning)\n",
      "C:\\Users\\Tohid\\anaconda\\envs\\pattern7\\lib\\site-packages\\sklearn\\neural_network\\_multilayer_perceptron.py:617: ConvergenceWarning: Stochastic Optimizer: Maximum iterations (200) reached and the optimization hasn't converged yet.\n",
      "  % self.max_iter, ConvergenceWarning)\n",
      "C:\\Users\\Tohid\\anaconda\\envs\\pattern7\\lib\\site-packages\\sklearn\\neural_network\\_multilayer_perceptron.py:617: ConvergenceWarning: Stochastic Optimizer: Maximum iterations (200) reached and the optimization hasn't converged yet.\n",
      "  % self.max_iter, ConvergenceWarning)\n",
      "C:\\Users\\Tohid\\anaconda\\envs\\pattern7\\lib\\site-packages\\xgboost\\data.py:114: UserWarning: Use subset (sliced data) of np.ndarray is not recommended because it will generate extra copies and increase memory consumption\n",
      "  \"because it will generate extra copies and increase \" +\n"
     ]
    },
    {
     "name": "stdout",
     "output_type": "stream",
     "text": [
      "******** train ******** :\n",
      "Accuracy:            0.9113355780022446\n",
      "F1:                  0.8782742681047765\n",
      "Precision:           0.8333333333333334\n",
      "Recall:              0.9283387622149837\n",
      "AP:                  0.7983069932038445\n",
      "RoC_AuC:             0.9153680112444782\n",
      "MSE:                 0.08866442199775533\n",
      "RMSE:                0.2977657166259328\n",
      "--- 18.94599986076355 seconds ---\n"
     ]
    }
   ],
   "source": [
    "start_time = time.time()\n",
    "\n",
    "classifiers = all_models_test(df,models[:],models_name,x_train,y_train)\n",
    "\n",
    "execution_time_calculator(start_time)"
   ]
  },
  {
   "cell_type": "markdown",
   "id": "7a4a301e",
   "metadata": {},
   "source": [
    "## Load test data"
   ]
  },
  {
   "cell_type": "code",
   "execution_count": 69,
   "id": "ca751867",
   "metadata": {},
   "outputs": [],
   "source": [
    "df_test = pd.read_csv(\"./data/test.csv\")\n",
    "ids_col = df_test[\"PassengerId\"].values\n",
    "df_test,_ = df_clean(df_test,1,age_mean)\n",
    "df_test,_,_,_ = df_encoder(df_test,1,[LE_Sex, LE_Cabin, LE_Embarked])\n",
    "\n",
    "array_test = df_test.values\n",
    "x_test = array_test[:,]"
   ]
  },
  {
   "cell_type": "code",
   "execution_count": 70,
   "id": "e93f872c",
   "metadata": {},
   "outputs": [],
   "source": [
    "# df_test.info()\n",
    "# df_test"
   ]
  },
  {
   "cell_type": "code",
   "execution_count": 75,
   "id": "238816fa",
   "metadata": {},
   "outputs": [],
   "source": [
    "def predict_one_classifier(classifier,labels_col,x_test):\n",
    "    y_pred_test = classifier.predict(x_test)\n",
    "#     metrics_calculator(labels_col,y_pred_test,\"test\")\n",
    "    return y_pred_test\n",
    "\n",
    "def predic_with_all_classifiers(classifiers,labels_col,x_test):\n",
    "    for i in range(len(classifiers)):\n",
    "        predict_one_classifier(classifiers[i],labels_col,x_test)"
   ]
  },
  {
   "cell_type": "code",
   "execution_count": 76,
   "id": "9578b8ae",
   "metadata": {
    "scrolled": true
   },
   "outputs": [],
   "source": [
    "# predic_with_all_classifiers(classifiers,labels_col,x_test)\n",
    "y_pred_test = predict_one_classifier(classifiers[9],labels_col,x_test)"
   ]
  },
  {
   "cell_type": "code",
   "execution_count": 77,
   "id": "deadae71",
   "metadata": {},
   "outputs": [],
   "source": [
    "df_result = pd.DataFrame(list(zip(list(ids_col),list(y_pred_test))), columns =['PassengerId','Survived'])\n",
    "df_result['Survived'] = df_result['Survived'].astype('int64')"
   ]
  },
  {
   "cell_type": "code",
   "execution_count": 67,
   "id": "119b270e",
   "metadata": {},
   "outputs": [],
   "source": [
    "# df_result"
   ]
  },
  {
   "cell_type": "code",
   "execution_count": 68,
   "id": "eb1c73af",
   "metadata": {},
   "outputs": [],
   "source": [
    "# compression_opts = dict(method='zip',archive_name='out.csv')  \n",
    "\n",
    "df_result.to_csv('out.csv', index=False)  "
   ]
  },
  {
   "cell_type": "code",
   "execution_count": null,
   "id": "f4618eb2",
   "metadata": {},
   "outputs": [],
   "source": []
  }
 ],
 "metadata": {
  "kernelspec": {
   "display_name": "Python 3",
   "language": "python",
   "name": "python3"
  },
  "language_info": {
   "codemirror_mode": {
    "name": "ipython",
    "version": 3
   },
   "file_extension": ".py",
   "mimetype": "text/x-python",
   "name": "python",
   "nbconvert_exporter": "python",
   "pygments_lexer": "ipython3",
   "version": "3.7.9"
  }
 },
 "nbformat": 4,
 "nbformat_minor": 5
}
